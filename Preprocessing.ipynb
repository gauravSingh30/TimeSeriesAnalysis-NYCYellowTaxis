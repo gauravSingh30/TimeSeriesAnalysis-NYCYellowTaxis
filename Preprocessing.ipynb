{
 "cells": [
  {
   "cell_type": "code",
   "execution_count": 187,
   "id": "c48e32f3",
   "metadata": {},
   "outputs": [],
   "source": [
    "import numpy as np\n",
    "import pandas as pd\n",
    "import wget\n",
    "from tqdm import tqdm\n",
    "import os\n",
    "from datetime import datetime\n",
    "import matplotlib.pyplot as plt\n",
    "import seaborn as sns"
   ]
  },
  {
   "cell_type": "code",
   "execution_count": 3,
   "id": "fcfedfb2",
   "metadata": {},
   "outputs": [],
   "source": [
    "links = [\n",
    "    \"https://d37ci6vzurychx.cloudfront.net/trip-data/yellow_tripdata_2017-01.parquet\",\n",
    "    \"https://d37ci6vzurychx.cloudfront.net/trip-data/yellow_tripdata_2017-02.parquet\",\n",
    "    \"https://d37ci6vzurychx.cloudfront.net/trip-data/yellow_tripdata_2017-03.parquet\",\n",
    "    \"https://d37ci6vzurychx.cloudfront.net/trip-data/yellow_tripdata_2017-04.parquet\",\n",
    "    \"https://d37ci6vzurychx.cloudfront.net/trip-data/yellow_tripdata_2017-05.parquet\",\n",
    "    \"https://d37ci6vzurychx.cloudfront.net/trip-data/yellow_tripdata_2017-06.parquet\",\n",
    "    \"https://d37ci6vzurychx.cloudfront.net/trip-data/yellow_tripdata_2017-07.parquet\",\n",
    "    \"https://d37ci6vzurychx.cloudfront.net/trip-data/yellow_tripdata_2017-08.parquet\",\n",
    "    \"https://d37ci6vzurychx.cloudfront.net/trip-data/yellow_tripdata_2017-09.parquet\",\n",
    "    \"https://d37ci6vzurychx.cloudfront.net/trip-data/yellow_tripdata_2017-10.parquet\",\n",
    "    \"https://d37ci6vzurychx.cloudfront.net/trip-data/yellow_tripdata_2017-11.parquet\",\n",
    "    \"https://d37ci6vzurychx.cloudfront.net/trip-data/yellow_tripdata_2017-12.parquet\",\n",
    "    \"https://d37ci6vzurychx.cloudfront.net/trip-data/yellow_tripdata_2018-01.parquet\",\n",
    "    \"https://d37ci6vzurychx.cloudfront.net/trip-data/yellow_tripdata_2018-02.parquet\",\n",
    "    \"https://d37ci6vzurychx.cloudfront.net/trip-data/yellow_tripdata_2018-03.parquet\",\n",
    "    \"https://d37ci6vzurychx.cloudfront.net/trip-data/yellow_tripdata_2018-04.parquet\",\n",
    "    \"https://d37ci6vzurychx.cloudfront.net/trip-data/yellow_tripdata_2018-05.parquet\",\n",
    "    \"https://d37ci6vzurychx.cloudfront.net/trip-data/yellow_tripdata_2018-06.parquet\",\n",
    "    \"https://d37ci6vzurychx.cloudfront.net/trip-data/yellow_tripdata_2018-07.parquet\",\n",
    "    \"https://d37ci6vzurychx.cloudfront.net/trip-data/yellow_tripdata_2018-08.parquet\",\n",
    "    \"https://d37ci6vzurychx.cloudfront.net/trip-data/yellow_tripdata_2018-09.parquet\",\n",
    "    \"https://d37ci6vzurychx.cloudfront.net/trip-data/yellow_tripdata_2018-10.parquet\",\n",
    "    \"https://d37ci6vzurychx.cloudfront.net/trip-data/yellow_tripdata_2018-11.parquet\",\n",
    "    \"https://d37ci6vzurychx.cloudfront.net/trip-data/yellow_tripdata_2018-12.parquet\",\n",
    "    \"https://d37ci6vzurychx.cloudfront.net/trip-data/yellow_tripdata_2019-01.parquet\",\n",
    "    \"https://d37ci6vzurychx.cloudfront.net/trip-data/yellow_tripdata_2019-02.parquet\",\n",
    "    \"https://d37ci6vzurychx.cloudfront.net/trip-data/yellow_tripdata_2019-03.parquet\",\n",
    "    \"https://d37ci6vzurychx.cloudfront.net/trip-data/yellow_tripdata_2019-04.parquet\",\n",
    "    \"https://d37ci6vzurychx.cloudfront.net/trip-data/yellow_tripdata_2019-05.parquet\",\n",
    "    \"https://d37ci6vzurychx.cloudfront.net/trip-data/yellow_tripdata_2019-06.parquet\",\n",
    "    \"https://d37ci6vzurychx.cloudfront.net/trip-data/yellow_tripdata_2019-07.parquet\",\n",
    "    \"https://d37ci6vzurychx.cloudfront.net/trip-data/yellow_tripdata_2019-08.parquet\",\n",
    "    \"https://d37ci6vzurychx.cloudfront.net/trip-data/yellow_tripdata_2019-09.parquet\",\n",
    "    \"https://d37ci6vzurychx.cloudfront.net/trip-data/yellow_tripdata_2019-10.parquet\",\n",
    "    \"https://d37ci6vzurychx.cloudfront.net/trip-data/yellow_tripdata_2019-11.parquet\",\n",
    "    \"https://d37ci6vzurychx.cloudfront.net/trip-data/yellow_tripdata_2019-12.parquet\"\n",
    "]"
   ]
  },
  {
   "cell_type": "code",
   "execution_count": 65,
   "id": "1ac49092",
   "metadata": {},
   "outputs": [
    {
     "name": "stderr",
     "output_type": "stream",
     "text": [
      "100%|███████████████████████████████████████████| 36/36 [07:41<00:00, 12.81s/it]\n"
     ]
    }
   ],
   "source": [
    "full_data = pd.DataFrame(columns=['tpep_pickup_datetime', 'passenger_count'])\n",
    "\n",
    "for link in tqdm(links):\n",
    "    data = wget.download(link, \"data.parquet\", bar=None)\n",
    "    data = pd.read_parquet(\"./data.parquet\", engine='pyarrow')\n",
    "    data['tpep_pickup_datetime'] = data['tpep_pickup_datetime'].astype('str')\n",
    "    data['tpep_pickup_datetime'] = data['tpep_pickup_datetime'].apply(lambda x: x.split(' ')[0])\n",
    "    data = data[['tpep_pickup_datetime', 'passenger_count']].groupby(by = 'tpep_pickup_datetime').sum()\n",
    "    data.reset_index(inplace=True)\n",
    "    full_data = pd.concat([full_data, data], axis = 0)\n",
    "    if(os.path.exists(\"./data.parquet\")):\n",
    "        os.remove(\"./data.parquet\")\n",
    "\n",
    "full_data.reset_index(inplace=True)"
   ]
  },
  {
   "cell_type": "code",
   "execution_count": 81,
   "id": "3ceaa1b7",
   "metadata": {},
   "outputs": [],
   "source": [
    "# Saving data to disk\n",
    "full_data.to_csv(\"FullData.csv\")"
   ]
  },
  {
   "cell_type": "code",
   "execution_count": 111,
   "id": "23402470",
   "metadata": {},
   "outputs": [],
   "source": [
    "# Filtering data for anomalies\n",
    "full_data = pd.read_csv('./FullData.csv').drop(columns = ['Unnamed: 0', 'index'])\n",
    "full_data['tpep_pickup_datetime'] = pd.to_datetime(full_data['tpep_pickup_datetime'])\n",
    "full_data = full_data[(full_data['tpep_pickup_datetime'] >= '2017-01-01') & (full_data['tpep_pickup_datetime'] <= '2019-12-31')]\n",
    "\n",
    "full_data = full_data[full_data['passenger_count'] >= 1000]\n",
    "full_data.sort_values(by='tpep_pickup_datetime', inplace=True)\n"
   ]
  },
  {
   "cell_type": "code",
   "execution_count": 114,
   "id": "e6fd596e",
   "metadata": {},
   "outputs": [],
   "source": [
    "full_data.to_csv(\"CleanData.csv\")"
   ]
  },
  {
   "cell_type": "markdown",
   "id": "5033dc2c",
   "metadata": {},
   "source": [
    "### Data Analysis"
   ]
  },
  {
   "cell_type": "code",
   "execution_count": 124,
   "id": "6c4b93f7",
   "metadata": {},
   "outputs": [],
   "source": [
    "full_data = pd.read_csv(\"./CleanData.csv\")"
   ]
  },
  {
   "cell_type": "code",
   "execution_count": 125,
   "id": "f8513a60",
   "metadata": {},
   "outputs": [],
   "source": [
    "full_data = full_data.drop(columns=['Unnamed: 0'])"
   ]
  },
  {
   "cell_type": "code",
   "execution_count": 127,
   "id": "693e9d38",
   "metadata": {},
   "outputs": [
    {
     "data": {
      "text/html": [
       "<div>\n",
       "<style scoped>\n",
       "    .dataframe tbody tr th:only-of-type {\n",
       "        vertical-align: middle;\n",
       "    }\n",
       "\n",
       "    .dataframe tbody tr th {\n",
       "        vertical-align: top;\n",
       "    }\n",
       "\n",
       "    .dataframe thead th {\n",
       "        text-align: right;\n",
       "    }\n",
       "</style>\n",
       "<table border=\"1\" class=\"dataframe\">\n",
       "  <thead>\n",
       "    <tr style=\"text-align: right;\">\n",
       "      <th></th>\n",
       "      <th>tpep_pickup_datetime</th>\n",
       "      <th>passenger_count</th>\n",
       "    </tr>\n",
       "  </thead>\n",
       "  <tbody>\n",
       "    <tr>\n",
       "      <th>0</th>\n",
       "      <td>2017-01-01</td>\n",
       "      <td>492666.0</td>\n",
       "    </tr>\n",
       "    <tr>\n",
       "      <th>1</th>\n",
       "      <td>2017-01-02</td>\n",
       "      <td>382771.0</td>\n",
       "    </tr>\n",
       "    <tr>\n",
       "      <th>2</th>\n",
       "      <td>2017-01-03</td>\n",
       "      <td>452785.0</td>\n",
       "    </tr>\n",
       "    <tr>\n",
       "      <th>3</th>\n",
       "      <td>2017-01-04</td>\n",
       "      <td>468784.0</td>\n",
       "    </tr>\n",
       "    <tr>\n",
       "      <th>4</th>\n",
       "      <td>2017-01-05</td>\n",
       "      <td>522893.0</td>\n",
       "    </tr>\n",
       "  </tbody>\n",
       "</table>\n",
       "</div>"
      ],
      "text/plain": [
       "  tpep_pickup_datetime  passenger_count\n",
       "0           2017-01-01         492666.0\n",
       "1           2017-01-02         382771.0\n",
       "2           2017-01-03         452785.0\n",
       "3           2017-01-04         468784.0\n",
       "4           2017-01-05         522893.0"
      ]
     },
     "execution_count": 127,
     "metadata": {},
     "output_type": "execute_result"
    }
   ],
   "source": [
    "full_data.head()"
   ]
  },
  {
   "cell_type": "code",
   "execution_count": 180,
   "id": "fd1abe59",
   "metadata": {},
   "outputs": [],
   "source": [
    "month_names = ['Jan', 'Feb', 'Mar', 'Apr', 'May', 'Jun', 'Jul', 'Aug', 'Sept', 'Oct', 'Nov', 'Dec']\n",
    "years = ['2017', '2018', '2019']\n",
    "day_names = ['Mon', 'Tue', 'Wed', 'Thurs', 'Fri', 'Sat', 'Sun']"
   ]
  },
  {
   "cell_type": "code",
   "execution_count": 131,
   "id": "e20e0a8c",
   "metadata": {},
   "outputs": [],
   "source": [
    "full_data['year'] = full_data['tpep_pickup_datetime'].apply(lambda x: int(x.split('-')[0]))\n",
    "full_data['month'] = full_data['tpep_pickup_datetime'].apply(lambda x: int(x.split('-')[1]))\n",
    "full_data['date'] = full_data['tpep_pickup_datetime'].apply(lambda x: int(x.split('-')[2]))"
   ]
  },
  {
   "cell_type": "code",
   "execution_count": 176,
   "id": "85419f96",
   "metadata": {},
   "outputs": [],
   "source": [
    "full_data['weekday'] = full_data['tpep_pickup_datetime'].apply(lambda x: datetime.strptime(x, \"%Y-%m-%d\").date().isoweekday())\n"
   ]
  },
  {
   "cell_type": "code",
   "execution_count": 177,
   "id": "93b14c6b",
   "metadata": {},
   "outputs": [
    {
     "data": {
      "text/html": [
       "<div>\n",
       "<style scoped>\n",
       "    .dataframe tbody tr th:only-of-type {\n",
       "        vertical-align: middle;\n",
       "    }\n",
       "\n",
       "    .dataframe tbody tr th {\n",
       "        vertical-align: top;\n",
       "    }\n",
       "\n",
       "    .dataframe thead th {\n",
       "        text-align: right;\n",
       "    }\n",
       "</style>\n",
       "<table border=\"1\" class=\"dataframe\">\n",
       "  <thead>\n",
       "    <tr style=\"text-align: right;\">\n",
       "      <th></th>\n",
       "      <th>tpep_pickup_datetime</th>\n",
       "      <th>passenger_count</th>\n",
       "      <th>year</th>\n",
       "      <th>month</th>\n",
       "      <th>date</th>\n",
       "      <th>weekday</th>\n",
       "    </tr>\n",
       "  </thead>\n",
       "  <tbody>\n",
       "    <tr>\n",
       "      <th>0</th>\n",
       "      <td>2017-01-01</td>\n",
       "      <td>492666.0</td>\n",
       "      <td>2017</td>\n",
       "      <td>1</td>\n",
       "      <td>1</td>\n",
       "      <td>7</td>\n",
       "    </tr>\n",
       "    <tr>\n",
       "      <th>1</th>\n",
       "      <td>2017-01-02</td>\n",
       "      <td>382771.0</td>\n",
       "      <td>2017</td>\n",
       "      <td>1</td>\n",
       "      <td>2</td>\n",
       "      <td>1</td>\n",
       "    </tr>\n",
       "    <tr>\n",
       "      <th>2</th>\n",
       "      <td>2017-01-03</td>\n",
       "      <td>452785.0</td>\n",
       "      <td>2017</td>\n",
       "      <td>1</td>\n",
       "      <td>3</td>\n",
       "      <td>2</td>\n",
       "    </tr>\n",
       "    <tr>\n",
       "      <th>3</th>\n",
       "      <td>2017-01-04</td>\n",
       "      <td>468784.0</td>\n",
       "      <td>2017</td>\n",
       "      <td>1</td>\n",
       "      <td>4</td>\n",
       "      <td>3</td>\n",
       "    </tr>\n",
       "    <tr>\n",
       "      <th>4</th>\n",
       "      <td>2017-01-05</td>\n",
       "      <td>522893.0</td>\n",
       "      <td>2017</td>\n",
       "      <td>1</td>\n",
       "      <td>5</td>\n",
       "      <td>4</td>\n",
       "    </tr>\n",
       "  </tbody>\n",
       "</table>\n",
       "</div>"
      ],
      "text/plain": [
       "  tpep_pickup_datetime  passenger_count  year  month  date  weekday\n",
       "0           2017-01-01         492666.0  2017      1     1        7\n",
       "1           2017-01-02         382771.0  2017      1     2        1\n",
       "2           2017-01-03         452785.0  2017      1     3        2\n",
       "3           2017-01-04         468784.0  2017      1     4        3\n",
       "4           2017-01-05         522893.0  2017      1     5        4"
      ]
     },
     "execution_count": 177,
     "metadata": {},
     "output_type": "execute_result"
    }
   ],
   "source": [
    "full_data.head()"
   ]
  },
  {
   "cell_type": "code",
   "execution_count": 182,
   "id": "e5f691c3",
   "metadata": {},
   "outputs": [],
   "source": [
    "months = full_data['month'].unique()\n",
    "years = full_data['year'].unique()\n",
    "dates = full_data['date'].unique()\n",
    "weekdays = full_data['weekday'].unique()"
   ]
  },
  {
   "cell_type": "code",
   "execution_count": 194,
   "id": "7f01ca23",
   "metadata": {},
   "outputs": [],
   "source": [
    "# Aggregate by year\n",
    "\n",
    "yearly_counts = full_data[['year', 'passenger_count']].groupby(by = ['year']).sum().sort_values(by = 'year', ascending=True)\n",
    "yearly_counts.reset_index(inplace=True)\n",
    "\n",
    "monthly_counts = full_data[['month', 'passenger_count']].groupby(by = ['month']).sum().sort_values(by = 'month', ascending=True)\n",
    "monthly_counts.reset_index(inplace=True)\n",
    "\n",
    "daily_counts = full_data[['date', 'passenger_count']].groupby(by = ['date']).sum().sort_values(by = 'date', ascending=True)\n",
    "daily_counts.reset_index(inplace=True)\n",
    "\n",
    "weekday_counts = full_data[['weekday', 'passenger_count']].groupby(by = ['weekday']).sum().sort_values(by = 'weekday', ascending=True)\n",
    "weekday_counts.reset_index(inplace=True)\n"
   ]
  },
  {
   "cell_type": "code",
   "execution_count": 208,
   "id": "f4281d47",
   "metadata": {},
   "outputs": [
    {
     "data": {
      "image/png": "[encoded data removed]",
      "text/plain": [
       "<Figure size 432x288 with 1 Axes>"
      ]
     },
     "metadata": {
      "needs_background": "light"
     },
     "output_type": "display_data"
    }
   ],
   "source": [
    "sns.barplot(data=yearly_counts, x=\"year\", y=\"passenger_count\")\n",
    "plt.show()"
   ]
  },
  {
   "cell_type": "code",
   "execution_count": 202,
   "id": "506fdb4b",
   "metadata": {},
   "outputs": [],
   "source": [
    "monthly_counts['month'] = monthly_counts['month'].apply(lambda x: month_names[x - 1])\n",
    "weekday_counts['weekday'] = weekday_counts['weekday'].apply(lambda x: day_names[x - 1])"
   ]
  },
  {
   "cell_type": "code",
   "execution_count": 209,
   "id": "4a8c0b2d",
   "metadata": {},
   "outputs": [
    {
     "data": {
      "image/png": "[encoded data removed]",
      "text/plain": [
       "<Figure size 432x288 with 1 Axes>"
      ]
     },
     "metadata": {
      "needs_background": "light"
     },
     "output_type": "display_data"
    },
    {
     "data": {
      "image/png": "[encoded data removed]",
      "text/plain": [
       "<Figure size 432x288 with 1 Axes>"
      ]
     },
     "metadata": {
      "needs_background": "light"
     },
     "output_type": "display_data"
    }
   ],
   "source": [
    "sns.barplot(data=monthly_counts, x=\"month\", y=\"passenger_count\")\n",
    "plt.show()\n",
    "sns.barplot(data=weekday_counts, x=\"weekday\", y=\"passenger_count\")\n",
    "plt.show()"
   ]
  },
  {
   "cell_type": "code",
   "execution_count": 220,
   "id": "306b38d0",
   "metadata": {},
   "outputs": [],
   "source": [
    "full_data['month_date'] = full_data[['month', 'date']].apply(\n",
    "                                                      lambda x: month_names[x[0] - 1] + \"-\" + str(x[1]), axis = 1)"
   ]
  },
  {
   "cell_type": "code",
   "execution_count": 223,
   "id": "3300e359",
   "metadata": {},
   "outputs": [],
   "source": [
    "date_counts = full_data[['month_date', 'passenger_count']].groupby(by = ['month_date']).sum()\n",
    "date_counts.reset_index(inplace = True)"
   ]
  },
  {
   "cell_type": "code",
   "execution_count": 226,
   "id": "09531216",
   "metadata": {},
   "outputs": [
    {
     "data": {
      "text/html": [
       "<div>\n",
       "<style scoped>\n",
       "    .dataframe tbody tr th:only-of-type {\n",
       "        vertical-align: middle;\n",
       "    }\n",
       "\n",
       "    .dataframe tbody tr th {\n",
       "        vertical-align: top;\n",
       "    }\n",
       "\n",
       "    .dataframe thead th {\n",
       "        text-align: right;\n",
       "    }\n",
       "</style>\n",
       "<table border=\"1\" class=\"dataframe\">\n",
       "  <thead>\n",
       "    <tr style=\"text-align: right;\">\n",
       "      <th></th>\n",
       "      <th>month_date</th>\n",
       "      <th>passenger_count</th>\n",
       "    </tr>\n",
       "  </thead>\n",
       "  <tbody>\n",
       "    <tr>\n",
       "      <th>78</th>\n",
       "      <td>Dec-25</td>\n",
       "      <td>641107.0</td>\n",
       "    </tr>\n",
       "    <tr>\n",
       "      <th>176</th>\n",
       "      <td>Jul-4</td>\n",
       "      <td>819967.0</td>\n",
       "    </tr>\n",
       "    <tr>\n",
       "      <th>79</th>\n",
       "      <td>Dec-26</td>\n",
       "      <td>917287.0</td>\n",
       "    </tr>\n",
       "    <tr>\n",
       "      <th>77</th>\n",
       "      <td>Dec-24</td>\n",
       "      <td>921746.0</td>\n",
       "    </tr>\n",
       "    <tr>\n",
       "      <th>346</th>\n",
       "      <td>Sept-2</td>\n",
       "      <td>957732.0</td>\n",
       "    </tr>\n",
       "    <tr>\n",
       "      <th>357</th>\n",
       "      <td>Sept-3</td>\n",
       "      <td>967124.0</td>\n",
       "    </tr>\n",
       "    <tr>\n",
       "      <th>177</th>\n",
       "      <td>Jul-5</td>\n",
       "      <td>995328.0</td>\n",
       "    </tr>\n",
       "    <tr>\n",
       "      <th>173</th>\n",
       "      <td>Jul-3</td>\n",
       "      <td>1005275.0</td>\n",
       "    </tr>\n",
       "    <tr>\n",
       "      <th>335</th>\n",
       "      <td>Sept-1</td>\n",
       "      <td>1018126.0</td>\n",
       "    </tr>\n",
       "    <tr>\n",
       "      <th>84</th>\n",
       "      <td>Dec-30</td>\n",
       "      <td>1018691.0</td>\n",
       "    </tr>\n",
       "  </tbody>\n",
       "</table>\n",
       "</div>"
      ],
      "text/plain": [
       "    month_date  passenger_count\n",
       "78      Dec-25         641107.0\n",
       "176      Jul-4         819967.0\n",
       "79      Dec-26         917287.0\n",
       "77      Dec-24         921746.0\n",
       "346     Sept-2         957732.0\n",
       "357     Sept-3         967124.0\n",
       "177      Jul-5         995328.0\n",
       "173      Jul-3        1005275.0\n",
       "335     Sept-1        1018126.0\n",
       "84      Dec-30        1018691.0"
      ]
     },
     "execution_count": 226,
     "metadata": {},
     "output_type": "execute_result"
    }
   ],
   "source": [
    "date_counts.sort_values(by = 'passenger_count', ascending=True).head(10)"
   ]
  },
  {
   "cell_type": "code",
   "execution_count": 229,
   "id": "e8ba8060",
   "metadata": {},
   "outputs": [
    {
     "data": {
      "text/html": [
       "<div>\n",
       "<style scoped>\n",
       "    .dataframe tbody tr th:only-of-type {\n",
       "        vertical-align: middle;\n",
       "    }\n",
       "\n",
       "    .dataframe tbody tr th {\n",
       "        vertical-align: top;\n",
       "    }\n",
       "\n",
       "    .dataframe thead th {\n",
       "        text-align: right;\n",
       "    }\n",
       "</style>\n",
       "<table border=\"1\" class=\"dataframe\">\n",
       "  <thead>\n",
       "    <tr style=\"text-align: right;\">\n",
       "      <th></th>\n",
       "      <th>month_date</th>\n",
       "      <th>passenger_count</th>\n",
       "    </tr>\n",
       "  </thead>\n",
       "  <tbody>\n",
       "    <tr>\n",
       "      <th>242</th>\n",
       "      <td>Mar-9</td>\n",
       "      <td>1582415.0</td>\n",
       "    </tr>\n",
       "    <tr>\n",
       "      <th>213</th>\n",
       "      <td>Mar-10</td>\n",
       "      <td>1551799.0</td>\n",
       "    </tr>\n",
       "    <tr>\n",
       "      <th>103</th>\n",
       "      <td>Feb-2</td>\n",
       "      <td>1550036.0</td>\n",
       "    </tr>\n",
       "    <tr>\n",
       "      <th>25</th>\n",
       "      <td>Apr-5</td>\n",
       "      <td>1541837.0</td>\n",
       "    </tr>\n",
       "    <tr>\n",
       "      <th>26</th>\n",
       "      <td>Apr-6</td>\n",
       "      <td>1532067.0</td>\n",
       "    </tr>\n",
       "    <tr>\n",
       "      <th>268</th>\n",
       "      <td>May-4</td>\n",
       "      <td>1531779.0</td>\n",
       "    </tr>\n",
       "    <tr>\n",
       "      <th>223</th>\n",
       "      <td>Mar-2</td>\n",
       "      <td>1530383.0</td>\n",
       "    </tr>\n",
       "    <tr>\n",
       "      <th>138</th>\n",
       "      <td>Jan-26</td>\n",
       "      <td>1526901.0</td>\n",
       "    </tr>\n",
       "    <tr>\n",
       "      <th>234</th>\n",
       "      <td>Mar-3</td>\n",
       "      <td>1523628.0</td>\n",
       "    </tr>\n",
       "    <tr>\n",
       "      <th>269</th>\n",
       "      <td>May-5</td>\n",
       "      <td>1522002.0</td>\n",
       "    </tr>\n",
       "  </tbody>\n",
       "</table>\n",
       "</div>"
      ],
      "text/plain": [
       "    month_date  passenger_count\n",
       "242      Mar-9        1582415.0\n",
       "213     Mar-10        1551799.0\n",
       "103      Feb-2        1550036.0\n",
       "25       Apr-5        1541837.0\n",
       "26       Apr-6        1532067.0\n",
       "268      May-4        1531779.0\n",
       "223      Mar-2        1530383.0\n",
       "138     Jan-26        1526901.0\n",
       "234      Mar-3        1523628.0\n",
       "269      May-5        1522002.0"
      ]
     },
     "execution_count": 229,
     "metadata": {},
     "output_type": "execute_result"
    }
   ],
   "source": [
    "date_counts.sort_values(by = 'passenger_count', ascending=False).head(10)"
   ]
  },
  {
   "cell_type": "code",
   "execution_count": 236,
   "id": "2f7d933c",
   "metadata": {},
   "outputs": [],
   "source": [
    "aug_data = full_data.copy()"
   ]
  },
  {
   "cell_type": "code",
   "execution_count": 243,
   "id": "8059d2b8",
   "metadata": {},
   "outputs": [],
   "source": [
    "labels_365 = []\n",
    "labels_182 = []\n",
    "labels_45 = []\n",
    "\n",
    "i = 0\n",
    "j = 0\n",
    "k = 0\n",
    "\n",
    "for n in range(len(aug_data)):\n",
    "    labels_365.append((i % 365) + 1)\n",
    "    labels_182.append((j % 182) + 1)\n",
    "    labels_45.append((k % 45) + 1)\n",
    "    i+=1\n",
    "    j+=1\n",
    "    k+=1\n",
    "    \n",
    "\n",
    "aug_data['labels_365'] = np.array(labels_365)\n",
    "aug_data['labels_182'] = np.array(labels_182)\n",
    "aug_data['labels_45'] = np.array(labels_45)\n",
    "aug_data['labels_30'] = aug_data['date']"
   ]
  },
  {
   "cell_type": "code",
   "execution_count": 248,
   "id": "d18a5f7f",
   "metadata": {},
   "outputs": [],
   "source": [
    "aug_data.to_csv(\"./augmented_data.csv\")"
   ]
  },
  {
   "cell_type": "markdown",
   "id": "6c87520b",
   "metadata": {},
   "source": [
    "### Heatmap of aic and bic scores"
   ]
  },
  {
   "cell_type": "code",
   "execution_count": 266,
   "id": "44397f28",
   "metadata": {},
   "outputs": [],
   "source": [
    "aics = np.genfromtxt(\"aics.csv\", delimiter = \",\")\n",
    "scores = np.genfromtxt(\"scores.csv\", delimiter = \",\")"
   ]
  },
  {
   "cell_type": "code",
   "execution_count": 268,
   "id": "02ab2f19",
   "metadata": {},
   "outputs": [],
   "source": [
    "aics = aics[1:, 1:]\n",
    "scores = scores[1:, 1:]"
   ]
  },
  {
   "cell_type": "code",
   "execution_count": 290,
   "id": "e14f66ef",
   "metadata": {},
   "outputs": [
    {
     "data": {
      "image/png": "[encoded data removed]",
      "text/plain": [
       "<Figure size 576x360 with 2 Axes>"
      ]
     },
     "metadata": {
      "needs_background": "light"
     },
     "output_type": "display_data"
    }
   ],
   "source": [
    "plt.figure(figsize = (8,5))\n",
    "xticks = np.linspace(1, 10, 10).astype(int)\n",
    "sns.heatmap(-aics, xticklabels= xticks, yticklabels=xticks)\n",
    "plt.show()"
   ]
  },
  {
   "cell_type": "code",
   "execution_count": 293,
   "id": "5997d999",
   "metadata": {},
   "outputs": [
    {
     "data": {
      "image/png": "[encoded data removed]",
      "text/plain": [
       "<Figure size 576x360 with 2 Axes>"
      ]
     },
     "metadata": {
      "needs_background": "light"
     },
     "output_type": "display_data"
    }
   ],
   "source": [
    "plt.figure(figsize = (8,5))\n",
    "sns.heatmap(-scores, xticklabels= xticks, yticklabels=xticks)\n",
    "plt.show()"
   ]
  },
  {
   "cell_type": "code",
   "execution_count": null,
   "id": "9d7dc036",
   "metadata": {},
   "outputs": [],
   "source": []
  }
 ],
 "metadata": {
  "kernelspec": {
   "display_name": "Python 3 (ipykernel)",
   "language": "python",
   "name": "python3"
  },
  "language_info": {
   "codemirror_mode": {
    "name": "ipython",
    "version": 3
   },
   "file_extension": ".py",
   "mimetype": "text/x-python",
   "name": "python",
   "nbconvert_exporter": "python",
   "pygments_lexer": "ipython3",
   "version": "3.8.12"
  }
 },
 "nbformat": 4,
 "nbformat_minor": 5
}
